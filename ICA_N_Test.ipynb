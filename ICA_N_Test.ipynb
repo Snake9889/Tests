{
 "cells": [
  {
   "cell_type": "code",
   "execution_count": 1,
   "id": "7016477d",
   "metadata": {},
   "outputs": [],
   "source": [
    "import matplotlib.pyplot as plt\n",
    "import numpy as np\n",
    "import math\n",
    "from numpy import (linspace, sin, cos, pi)\n",
    "from numpy.fft import rfft, rfftfreq\n",
    "from sklearn.decomposition import FastICA"
   ]
  },
  {
   "cell_type": "code",
   "execution_count": 2,
   "id": "1309e5fc",
   "metadata": {},
   "outputs": [],
   "source": [
    "len_n = np.array([100, 500, 1000, 1500, 3000, 8000])\n",
    "\n",
    "mu, sigma = 0, 1\n",
    "a0 = 1\n",
    "a1 = 0.8\n",
    "a2 = 0.5\n",
    "w0 = 0.1815\n",
    "w1 = 0.1787\n",
    "w2 = 0.015\n",
    "k = 0.0000005"
   ]
  },
  {
   "cell_type": "code",
   "execution_count": 3,
   "id": "04f1d674",
   "metadata": {},
   "outputs": [],
   "source": [
    "def Generator(len_m):\n",
    "    \"\"\"   \"\"\"\n",
    "    x = linspace(0, len_m, len_m)\n",
    "    f1 = np.exp(-k*x**2)*((a0 + 0.1*(np.random.normal(mu, sigma, len_m)))*sin(2 * pi * w0 * x + 2 * pi * 0.00) + (a1 + 0.1*(np.random.normal(mu, sigma, len_m)))*sin(2 * pi * w1 * x + 2 * pi * 0.00) + (a2 + 0.2*(np.random.normal(mu, sigma, len_m)))*sin(2 * pi * w2 * x + 2 * pi * 0.00)) + [x for x in 0.25*(np.random.normal(mu, sigma, len_m))]\n",
    "    f2 = np.exp(-k*x**2)*((a0 + 0.05*(np.random.normal(mu, sigma, len_m)))*sin(2 * pi * w0 * x + 2 * pi * 0.00425) + (a1 + 0.05*(np.random.normal(mu, sigma, len_m)))*sin(2 * pi * w1 * x + 2 * pi * 0.00425) + (a2 + 0.1*(np.random.normal(mu, sigma, len_m)))*sin(2 * pi * w2 * x + 2 * pi * 0.025)) + [x for x in 0.3*(np.random.normal(mu, sigma, len_m))]\n",
    "    f3 = np.exp(-k*x**2)*((a0 + 0.09*(np.random.normal(mu, sigma, len_m)))*sin(2 * pi * w0 * x + 2 * pi * 0.0085) + (a1 + 0.09*(np.random.normal(mu, sigma, len_m)))*sin(2 * pi * w1 * x + 2 * pi * 0.0085) + (a2 + 0.18*(np.random.normal(mu, sigma, len_m)))*sin(2 * pi * w2 * x + 2 * pi * 0.0085)) + [x for x in 0.2*(np.random.normal(mu, sigma, len_m))]\n",
    "    f4 = np.exp(-k*x**2)*((a0 + 0.11*(np.random.normal(mu, sigma, len_m)))*sin(2 * pi * w0 * x + 2 * pi * 0.01275) + (a1 + 0.11*(np.random.normal(mu, sigma, len_m)))*sin(2 * pi * w1 * x + 2 * pi * 0.01275) + (a2 + 0.22*(np.random.normal(mu, sigma, len_m)))*sin(2 * pi * w2 * x + 2 * pi * 0.01275)) + [x for x in 0.1*(np.random.normal(mu, sigma, len_m))]\n",
    "\n",
    "    Mass = np.c_[f1, f2, f3, f4]\n",
    "    Mass2 = np.delete(Mass, (0), axis=0)\n",
    "    zeros = np.array([0, 0, 0, 0])\n",
    "    Mass2 = np.vstack((Mass2, zeros))\n",
    "    Mass = np.concatenate((Mass, Mass2), axis=1)\n",
    "\n",
    "    Mass2 = np.delete(Mass, (0, 1), axis=0) \n",
    "    zeros_2 = np.zeros((2, 8))\n",
    "    Mass2 = np.vstack((Mass2, zeros_2))\n",
    "    Mass = np.concatenate((Mass, Mass2), axis=1)\n",
    "    \n",
    "    return(Mass)"
   ]
  },
  {
   "cell_type": "code",
   "execution_count": 4,
   "id": "ecf565ce",
   "metadata": {},
   "outputs": [],
   "source": [
    "def ICA(data, len_m):\n",
    "    \"\"\"   \"\"\"\n",
    "    ica = FastICA(n_components=16)\n",
    "    S_ = ica.fit_transform(data)\n",
    "\n",
    "    nu_fft = rfftfreq(len_m, 1.)\n",
    "    \n",
    "    return(nu_fft, S_)"
   ]
  },
  {
   "cell_type": "code",
   "execution_count": 5,
   "id": "1f9b6a41",
   "metadata": {},
   "outputs": [],
   "source": [
    "def FFT(ica, nu, len_m):\n",
    "    \"\"\"   \"\"\"\n",
    "    nu_mas = np.zeros((16,1))\n",
    "    left_ind = math.floor(len_m * 0.165)\n",
    "    right_ind = math.ceil(len_m * 0.185)\n",
    "    \n",
    "    for i in range(ica.shape[1]):\n",
    "        spectrf = rfft(ica[:, i])\n",
    "        #nu[np.argmax(np.abs(spectrf), axis=0)]\n",
    "        \n",
    "        tmp_nu = nu[left_ind: right_ind]\n",
    "        tmp_x = spectrf[left_ind: right_ind]\n",
    "\n",
    "        ind = np.argmax(tmp_x)\n",
    "        frq_founded = tmp_nu[ind]\n",
    "        nu_mas[i] = frq_founded\n",
    "        \n",
    "        \n",
    "    delta = nu_mas - w1\n",
    "    #print(delta)\n",
    "    real_delta = min(np.abs(delta))\n",
    "    return(real_delta)"
   ]
  },
  {
   "cell_type": "code",
   "execution_count": 8,
   "id": "9332573c",
   "metadata": {},
   "outputs": [],
   "source": [
    "def Plotter(len_m):\n",
    "    \"\"\"   \"\"\"\n",
    "    points_delta = np.zeros((6,1))\n",
    "    for i in range(len_m.shape[0]):\n",
    "        Mas = Generator(len_m[i])\n",
    "        nu_fft, S = ICA(Mas, len_m[i])\n",
    "        points_delta[i] = FFT(S, nu_fft, len_m[i])\n",
    "        \n",
    "    figsize = [10, 7]\n",
    "    plt.figure(figsize=figsize)\n",
    "    plt.plot(len_m, np.abs(points_delta), 'o', c='r', linestyle='solid')\n",
    "    plt.xlabel(\"Length\")\n",
    "    plt.ylabel(\"Error\")\n",
    "    plt.grid(True)\n",
    "    #plt.title(\"Sports Watch Data\")\n",
    "    \n",
    "    plt.savefig('ICA N.png')\n",
    "    plt.show()          "
   ]
  },
  {
   "cell_type": "code",
   "execution_count": 9,
   "id": "7b4d14d0",
   "metadata": {},
   "outputs": [
    {
     "name": "stderr",
     "output_type": "stream",
     "text": [
      "C:\\Users\\Slava\\anaconda3\\lib\\site-packages\\sklearn\\decomposition\\_fastica.py:118: ConvergenceWarning: FastICA did not converge. Consider increasing tolerance or the maximum number of iterations.\n",
      "  warnings.warn('FastICA did not converge. Consider increasing '\n",
      "C:\\Users\\Slava\\anaconda3\\lib\\site-packages\\sklearn\\decomposition\\_fastica.py:118: ConvergenceWarning: FastICA did not converge. Consider increasing tolerance or the maximum number of iterations.\n",
      "  warnings.warn('FastICA did not converge. Consider increasing '\n",
      "C:\\Users\\Slava\\anaconda3\\lib\\site-packages\\sklearn\\decomposition\\_fastica.py:118: ConvergenceWarning: FastICA did not converge. Consider increasing tolerance or the maximum number of iterations.\n",
      "  warnings.warn('FastICA did not converge. Consider increasing '\n",
      "C:\\Users\\Slava\\anaconda3\\lib\\site-packages\\sklearn\\decomposition\\_fastica.py:118: ConvergenceWarning: FastICA did not converge. Consider increasing tolerance or the maximum number of iterations.\n",
      "  warnings.warn('FastICA did not converge. Consider increasing '\n"
     ]
    },
    {
     "data": {
      "image/png": "[encoded data removed]",
      "text/plain": [
       "<Figure size 720x504 with 1 Axes>"
      ]
     },
     "metadata": {
      "needs_background": "light"
     },
     "output_type": "display_data"
    }
   ],
   "source": [
    "Plotter(len_n)"
   ]
  },
  {
   "cell_type": "code",
   "execution_count": null,
   "id": "dd6d4046",
   "metadata": {},
   "outputs": [],
   "source": []
  }
 ],
 "metadata": {
  "kernelspec": {
   "display_name": "Python [conda env:root] *",
   "language": "python",
   "name": "conda-root-py"
  },
  "language_info": {
   "codemirror_mode": {
    "name": "ipython",
    "version": 3
   },
   "file_extension": ".py",
   "mimetype": "text/x-python",
   "name": "python",
   "nbconvert_exporter": "python",
   "pygments_lexer": "ipython3",
   "version": "3.8.11"
  }
 },
 "nbformat": 4,
 "nbformat_minor": 5
}
