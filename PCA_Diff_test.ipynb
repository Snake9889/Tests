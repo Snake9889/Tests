{
 "cells": [
  {
   "cell_type": "code",
   "execution_count": 1,
   "id": "49881121",
   "metadata": {},
   "outputs": [],
   "source": [
    "import matplotlib.pyplot as plt\n",
    "import math\n",
    "import numpy as np\n",
    "import numpy.linalg as lg\n",
    "from numpy import (linspace, sin, cos, pi)\n",
    "from numpy.fft import rfft, rfftfreq"
   ]
  },
  {
   "cell_type": "code",
   "execution_count": 2,
   "id": "59f9ae47",
   "metadata": {},
   "outputs": [
    {
     "name": "stdout",
     "output_type": "stream",
     "text": [
      "[0.171 0.172 0.173 0.174 0.175 0.176 0.177 0.178 0.179 0.18  0.181]\n"
     ]
    }
   ],
   "source": [
    "len_m = 8000\n",
    "x = linspace(0, len_m, len_m)  # возвращает равномерно распределённые числа в данном интервале\n",
    "left_ind = math.floor(len_m * 0.165)\n",
    "right_ind = math.ceil(len_m * 0.185)\n",
    "\n",
    "mu, sigma = 0, 1\n",
    "a0 = 1\n",
    "a1 = 0.8\n",
    "a2 = 0.5\n",
    "w0 = 0.1815\n",
    "w1_Mas = linspace(0.171, 0.181, 11)\n",
    "print(w1_Mas)\n",
    "#w1 = 0.176\n",
    "w2 = 0.015\n",
    "k = 0.0000005\n"
   ]
  },
  {
   "cell_type": "code",
   "execution_count": 3,
   "id": "31437526",
   "metadata": {},
   "outputs": [],
   "source": [
    "def Generator(w1):\n",
    "    \"\"\"   \"\"\"\n",
    "    f1 = np.exp(-k*x**2)*((a0 + 0.1*(np.random.normal(mu, sigma, len_m)))*sin(2 * pi * w0 * x + 2 * pi * 0.00) + (a1 + 0.1*(np.random.normal(mu, sigma, len_m)))*sin(2 * pi * w1 * x + 2 * pi * 0.00) + (a2 + 0.2*(np.random.normal(mu, sigma, len_m)))*sin(2 * pi * w2 * x + 2 * pi * 0.00)) + [x for x in 0.25*(np.random.normal(mu, sigma, len_m))]\n",
    "    f2 = np.exp(-k*x**2)*((a0 + 0.05*(np.random.normal(mu, sigma, len_m)))*sin(2 * pi * w0 * x + 2 * pi * 0.00425) + (a1 + 0.05*(np.random.normal(mu, sigma, len_m)))*sin(2 * pi * w1 * x + 2 * pi * 0.00425) + (a2 + 0.1*(np.random.normal(mu, sigma, len_m)))*sin(2 * pi * w2 * x + 2 * pi * 0.025)) + [x for x in 0.3*(np.random.normal(mu, sigma, len_m))]\n",
    "    f3 = np.exp(-k*x**2)*((a0 + 0.09*(np.random.normal(mu, sigma, len_m)))*sin(2 * pi * w0 * x + 2 * pi * 0.0085) + (a1 + 0.09*(np.random.normal(mu, sigma, len_m)))*sin(2 * pi * w1 * x + 2 * pi * 0.0085) + (a2 + 0.18*(np.random.normal(mu, sigma, len_m)))*sin(2 * pi * w2 * x + 2 * pi * 0.0085)) + [x for x in 0.2*(np.random.normal(mu, sigma, len_m))]\n",
    "    f4 = np.exp(-k*x**2)*((a0 + 0.11*(np.random.normal(mu, sigma, len_m)))*sin(2 * pi * w0 * x + 2 * pi * 0.01275) + (a1 + 0.11*(np.random.normal(mu, sigma, len_m)))*sin(2 * pi * w1 * x + 2 * pi * 0.01275) + (a2 + 0.22*(np.random.normal(mu, sigma, len_m)))*sin(2 * pi * w2 * x + 2 * pi * 0.01275)) + [x for x in 0.1*(np.random.normal(mu, sigma, len_m))]\n",
    "\n",
    "    Mass = np.c_[f1, f2, f3, f4]\n",
    "    Mass2 = np.delete(Mass, (0), axis=0)\n",
    "    zeros = np.array([0, 0, 0, 0])\n",
    "    Mass2 = np.vstack((Mass2, zeros))\n",
    "    Mass = np.concatenate((Mass, Mass2), axis=1)\n",
    "\n",
    "    Mass2 = np.delete(Mass, (0, 1), axis=0) \n",
    "    zeros_2 = np.zeros((2, 8))\n",
    "    Mass2 = np.vstack((Mass2, zeros_2))\n",
    "    Mass = np.concatenate((Mass, Mass2), axis=1)\n",
    "    \n",
    "    return(Mass)\n"
   ]
  },
  {
   "cell_type": "code",
   "execution_count": 4,
   "id": "38715e5d",
   "metadata": {},
   "outputs": [],
   "source": [
    "def SVD(data):\n",
    "    \"\"\"   \"\"\"\n",
    "    U, sng, Mass_SVD = lg.svd(data.T, full_matrices=False)\n",
    "    nu_fft = rfftfreq(len_m, 1.)\n",
    "    \n",
    "    return(nu_fft, Mass_SVD)"
   ]
  },
  {
   "cell_type": "code",
   "execution_count": 37,
   "id": "d8d84e33",
   "metadata": {},
   "outputs": [],
   "source": [
    "def FFT(svd, nu, w1):\n",
    "    \"\"\"   \"\"\"\n",
    "    nu_mas = np.zeros((16,1))\n",
    "    \n",
    "    for i in range(svd.shape[0]):\n",
    "        spectrf = rfft(svd[i, :])\n",
    "        #nu[np.argmax(np.abs(spectrf), axis=0)]\n",
    "        \n",
    "        tmp_nu = nu[left_ind: right_ind]\n",
    "        print\n",
    "        tmp_x = spectrf[left_ind: right_ind]\n",
    "\n",
    "        ind = np.argmax(tmp_x)\n",
    "        frq_founded = tmp_nu[ind]\n",
    "        nu_mas[i] = frq_founded\n",
    "        \n",
    "        \n",
    "    delta = nu_mas - w1\n",
    "    #print(delta)\n",
    "    real_delta = min(np.abs(delta))\n",
    "    return(real_delta)"
   ]
  },
  {
   "cell_type": "code",
   "execution_count": 96,
   "id": "7d81e478",
   "metadata": {},
   "outputs": [],
   "source": [
    "def Plotter(w1_Mas):\n",
    "    \"\"\"   \"\"\"\n",
    "    points_delta = np.zeros((11,1))\n",
    "    for i in range(w1_Mas.shape[0]):\n",
    "        Mas = Generator(w1_Mas[i])\n",
    "        nu_fft, Mas_SVD = SVD(Mas)\n",
    "        points_delta[i] = FFT(Mas_SVD, nu_fft, w1_Mas[i])\n",
    "    \n",
    "    figsize = [10, 7]\n",
    "    plt.figure(figsize=figsize)\n",
    "    plt.plot(np.abs(w1_Mas - w0), np.abs(points_delta), 'o', c='r', linestyle='solid')\n",
    "    plt.xlabel(\"Frequency difference\", fontsize=15)\n",
    "    plt.ylabel(\"Error\",fontsize=15)\n",
    "    plt.grid(True)\n",
    "    #plt.title(\"Sports Watch Data\")\n",
    "    \n",
    "    plt.savefig('PCA Diff.png')\n",
    "    plt.show()     \n",
    "    "
   ]
  },
  {
   "cell_type": "code",
   "execution_count": 97,
   "id": "3a9fae5a",
   "metadata": {},
   "outputs": [
    {
     "data": {
      "image/png": "[encoded data removed]",
      "text/plain": [
       "<Figure size 720x504 with 1 Axes>"
      ]
     },
     "metadata": {
      "needs_background": "light"
     },
     "output_type": "display_data"
    }
   ],
   "source": [
    "Plotter(w1_Mas)"
   ]
  },
  {
   "cell_type": "code",
   "execution_count": null,
   "id": "61630962",
   "metadata": {},
   "outputs": [],
   "source": []
  }
 ],
 "metadata": {
  "kernelspec": {
   "display_name": "Python 3 (ipykernel)",
   "language": "python",
   "name": "python3"
  },
  "language_info": {
   "codemirror_mode": {
    "name": "ipython",
    "version": 3
   },
   "file_extension": ".py",
   "mimetype": "text/x-python",
   "name": "python",
   "nbconvert_exporter": "python",
   "pygments_lexer": "ipython3",
   "version": "3.8.11"
  }
 },
 "nbformat": 4,
 "nbformat_minor": 5
}
