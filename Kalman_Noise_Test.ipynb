{
 "cells": [
  {
   "cell_type": "code",
   "execution_count": 1,
   "id": "6c700bd7",
   "metadata": {},
   "outputs": [],
   "source": [
    "import matplotlib.pyplot as plt\n",
    "import math\n",
    "import numpy as np\n",
    "import numpy.linalg as lg\n",
    "from numpy import (linspace, sin, cos, pi)\n",
    "from numpy.fft import rfft, rfftfreq\n",
    "\n",
    "# Q - предполагаемая ошибка в центре этого раунда\n",
    "Q = 0.3\n",
    "# R - погрешность измерения следующего раунда\n",
    "R = 0.3\n",
    "# Accumulated_Error - это оценочная ошибка предыдущего раунда, которая представляется как накопление всех ошибок.\n",
    "Accumulated_Error = 1\n",
    "# Начальное старое значение\n",
    "kalman_adc_old = 0\n",
    "\n",
    "SCOPE = 50"
   ]
  },
  {
   "cell_type": "code",
   "execution_count": 2,
   "id": "af008725",
   "metadata": {},
   "outputs": [],
   "source": [
    "len_m = 1500\n",
    "x = linspace(0, len_m, len_m)  # возвращает равномерно распределённые числа в данном интервале\n",
    "\n",
    "left_ind = math.floor(len_m * 0.165)\n",
    "right_ind = math.ceil(len_m * 0.185)\n",
    "\n",
    "mu, sigma = 0, 1\n",
    "a0 = 1\n",
    "a1 = 0.8\n",
    "a2 = 0.5\n",
    "w0 = 0.1815\n",
    "w1 = 0.1781\n",
    "w2 = 0.015\n",
    "k = 0.0000005\n",
    "noise_mas = linspace(0.1, 0.5, 11)\n"
   ]
  },
  {
   "cell_type": "code",
   "execution_count": 3,
   "id": "aa7f018d",
   "metadata": {},
   "outputs": [],
   "source": [
    "def kalman(ADC_Value):\n",
    "    global kalman_adc_old\n",
    "    global Accumulated_Error\n",
    "\n",
    "    # Отслеживать, когда новое значение слишком отличается от старого значения\n",
    "    if (abs(ADC_Value-kalman_adc_old)/SCOPE > 0.25):\n",
    "        Old_Input = ADC_Value*0.382 + kalman_adc_old*0.618\n",
    "    else:\n",
    "        Old_Input = kalman_adc_old\n",
    "\n",
    "    # Общая ошибка предыдущего раунда = накопленная ошибка ^ 2 + оценочная ошибка ^ 2\n",
    "    Old_Error_All = (Accumulated_Error**2 + Q**2)**(1/2)\n",
    "\n",
    "    # R - расчетная ошибка этого раунда\n",
    "    # H - доверие обеих сторон, рассчитанное с использованием среднеквадратичной ошибки\n",
    "    H = Old_Error_All**2/(Old_Error_All**2 + R**2)\n",
    "\n",
    "    # Старое значение + 1.00001 / (1.00001 + 0.1) * (новое значение - старое значение)\n",
    "    kalman_adc = Old_Input + H * (ADC_Value - Old_Input)\n",
    "\n",
    "    # Рассчитать новую накопленную ошибку\n",
    "    Accumulated_Error = ((1 - H)*Old_Error_All**2)**(1/2)\n",
    "    # Новое значение становится старым значением\n",
    "    kalman_adc_old = kalman_adc\n",
    "    return kalman_adc"
   ]
  },
  {
   "cell_type": "code",
   "execution_count": 4,
   "id": "5ba6f2cb",
   "metadata": {},
   "outputs": [],
   "source": [
    "def Kalman(sig):\n",
    "    \"\"\"\"   \"\"\"\n",
    "    adc=[]\n",
    "    for i in range(len(sig)):\n",
    "        adc.append(kalman(sig[i]))\n",
    "    \n",
    "    return(adc)"
   ]
  },
  {
   "cell_type": "code",
   "execution_count": 5,
   "id": "338ea7e9",
   "metadata": {},
   "outputs": [],
   "source": [
    "def Generator(n_a):\n",
    "    \"\"\"   \"\"\"\n",
    "    f1 = np.exp(-k*x**2)*((a0 + 0.1*(np.random.normal(mu, sigma, len_m)))*sin(2 * pi * w0 * x + 2 * pi * 0.00) + (a1 + 0.1*(np.random.normal(mu, sigma, len_m)))*sin(2 * pi * w1 * x + 2 * pi * 0.00) + (a2 + 0.2*(np.random.normal(mu, sigma, len_m)))*sin(2 * pi * w2 * x + 2 * pi * 0.00)) + [x for x in (n_a + 0.15)*(np.random.normal(mu, sigma, len_m))]\n",
    "    f2 = np.exp(-k*x**2)*((a0 + 0.05*(np.random.normal(mu, sigma, len_m)))*sin(2 * pi * w0 * x + 2 * pi * 0.00425) + (a1 + 0.05*(np.random.normal(mu, sigma, len_m)))*sin(2 * pi * w1 * x + 2 * pi * 0.00425) + (a2 + 0.1*(np.random.normal(mu, sigma, len_m)))*sin(2 * pi * w2 * x + 2 * pi * 0.025)) + [x for x in (n_a + 0.2)*(np.random.normal(mu, sigma, len_m))]\n",
    "    f3 = np.exp(-k*x**2)*((a0 + 0.09*(np.random.normal(mu, sigma, len_m)))*sin(2 * pi * w0 * x + 2 * pi * 0.0085) + (a1 + 0.09*(np.random.normal(mu, sigma, len_m)))*sin(2 * pi * w1 * x + 2 * pi * 0.0085) + (a2 + 0.18*(np.random.normal(mu, sigma, len_m)))*sin(2 * pi * w2 * x + 2 * pi * 0.0085)) + [x for x in (n_a + 0.1)*(np.random.normal(mu, sigma, len_m))]\n",
    "    f4 = np.exp(-k*x**2)*((a0 + 0.11*(np.random.normal(mu, sigma, len_m)))*sin(2 * pi * w0 * x + 2 * pi * 0.01275) + (a1 + 0.11*(np.random.normal(mu, sigma, len_m)))*sin(2 * pi * w1 * x + 2 * pi * 0.01275) + (a2 + 0.22*(np.random.normal(mu, sigma, len_m)))*sin(2 * pi * w2 * x + 2 * pi * 0.01275)) + [x for x in n_a*(np.random.normal(mu, sigma, len_m))]\n",
    "\n",
    "    f1 = Kalman(f1)\n",
    "    f2 = Kalman(f2)\n",
    "    f3 = Kalman(f3)\n",
    "    f4 = Kalman(f4)\n",
    "    \n",
    "    Mass = np.c_[f1, f2, f3, f4]\n",
    "    Mass2 = np.delete(Mass, (0), axis=0)\n",
    "    zeros = np.array([0, 0, 0, 0])\n",
    "    Mass2 = np.vstack((Mass2, zeros))\n",
    "    Mass = np.concatenate((Mass, Mass2), axis=1)\n",
    "\n",
    "    Mass2 = np.delete(Mass, (0, 1), axis=0) \n",
    "    zeros_2 = np.zeros((2, 8))\n",
    "    Mass2 = np.vstack((Mass2, zeros_2))\n",
    "    Mass = np.concatenate((Mass, Mass2), axis=1)\n",
    "    \n",
    "    return(Mass)"
   ]
  },
  {
   "cell_type": "code",
   "execution_count": 6,
   "id": "7c31be8b",
   "metadata": {},
   "outputs": [],
   "source": [
    "def SVD(data):\n",
    "    \"\"\"   \"\"\"\n",
    "    U, sng, Mass_SVD = lg.svd(data.T, full_matrices=False)\n",
    "    nu_fft = rfftfreq(len_m, 1.)\n",
    "    \n",
    "    return(nu_fft, Mass_SVD)"
   ]
  },
  {
   "cell_type": "code",
   "execution_count": 7,
   "id": "7ed7366c",
   "metadata": {},
   "outputs": [],
   "source": [
    "def FFT(svd, nu):\n",
    "    \"\"\"   \"\"\"\n",
    "    nu_mas = np.zeros((16,1))\n",
    "    \n",
    "    for i in range(svd.shape[0]):\n",
    "        spectrf = rfft(svd[i, :])\n",
    "        #nu[np.argmax(np.abs(spectrf), axis=0)]\n",
    "        \n",
    "        tmp_nu = nu[left_ind: right_ind]\n",
    "        print\n",
    "        tmp_x = spectrf[left_ind: right_ind]\n",
    "\n",
    "        ind = np.argmax(tmp_x)\n",
    "        frq_founded = tmp_nu[ind]\n",
    "        nu_mas[i] = frq_founded\n",
    "        \n",
    "        \n",
    "    delta = nu_mas - w1\n",
    "    #print(delta)\n",
    "    real_delta = min(np.abs(delta))\n",
    "    return(real_delta)"
   ]
  },
  {
   "cell_type": "code",
   "execution_count": 8,
   "id": "0fc19d22",
   "metadata": {},
   "outputs": [],
   "source": [
    "def Plotter(noise_mass):\n",
    "    \"\"\"   \"\"\"\n",
    "    points_delta = np.zeros((11,1))\n",
    "    for i in range(noise_mass.shape[0]):\n",
    "        Mas = Generator(noise_mass[i])\n",
    "        nu_fft, Mas_SVD = SVD(Mas)\n",
    "        points_delta[i] = FFT(Mas_SVD, nu_fft)\n",
    "        \n",
    "    figsize = [10, 7]\n",
    "    plt.figure(figsize=figsize)\n",
    "    plt.plot(noise_mass, np.abs(points_delta), 'o', c='r', linestyle='solid')\n",
    "    plt.xlabel(\"Noise level\", fontsize=15)\n",
    "    plt.ylabel(\"Error\", fontsize=15)\n",
    "    plt.grid(True)\n",
    "    #plt.title(\"Sports Watch Data\")\n",
    "    \n",
    "    plt.savefig('Kalman_Noise.png')\n",
    "    plt.show()   "
   ]
  },
  {
   "cell_type": "code",
   "execution_count": 9,
   "id": "3722190a",
   "metadata": {},
   "outputs": [
    {
     "data": {
      "image/png": "[encoded data removed]",
      "text/plain": [
       "<Figure size 720x504 with 1 Axes>"
      ]
     },
     "metadata": {
      "needs_background": "light"
     },
     "output_type": "display_data"
    }
   ],
   "source": [
    "Plotter(noise_mas)"
   ]
  },
  {
   "cell_type": "code",
   "execution_count": null,
   "id": "e1759eae",
   "metadata": {},
   "outputs": [],
   "source": []
  }
 ],
 "metadata": {
  "kernelspec": {
   "display_name": "Python [conda env:root] *",
   "language": "python",
   "name": "conda-root-py"
  },
  "language_info": {
   "codemirror_mode": {
    "name": "ipython",
    "version": 3
   },
   "file_extension": ".py",
   "mimetype": "text/x-python",
   "name": "python",
   "nbconvert_exporter": "python",
   "pygments_lexer": "ipython3",
   "version": "3.8.11"
  }
 },
 "nbformat": 4,
 "nbformat_minor": 5
}
