{
 "cells": [
  {
   "cell_type": "code",
   "execution_count": 8,
   "id": "aed23fab",
   "metadata": {},
   "outputs": [],
   "source": [
    "import matplotlib.pyplot as plt\n",
    "import numpy as np\n",
    "import math\n",
    "from numpy import (linspace, sin, cos, pi)\n",
    "from numpy.fft import rfft, rfftfreq\n",
    "from sklearn.decomposition import FastICA"
   ]
  },
  {
   "cell_type": "code",
   "execution_count": 9,
   "id": "2132611c",
   "metadata": {},
   "outputs": [
    {
     "name": "stdout",
     "output_type": "stream",
     "text": [
      "[0.171 0.172 0.173 0.174 0.175 0.176 0.177 0.178 0.179 0.18  0.181]\n"
     ]
    }
   ],
   "source": [
    "len_m = 8000\n",
    "x = linspace(0, len_m, len_m)  # возвращает равномерно распределённые числа в данном интервале\n",
    "\n",
    "left_ind = math.floor(len_m * 0.165)\n",
    "right_ind = math.ceil(len_m * 0.185)\n",
    "\n",
    "mu, sigma = 0, 1\n",
    "a0 = 1\n",
    "a1 = 0.8\n",
    "a2 = 0.5\n",
    "w0 = 0.1815\n",
    "w1_Mas = linspace(0.171, 0.181, 11)\n",
    "print(w1_Mas)\n",
    "#w1 = 0.176\n",
    "w2 = 0.015\n",
    "k = 0.0000005"
   ]
  },
  {
   "cell_type": "code",
   "execution_count": 10,
   "id": "42f31124",
   "metadata": {},
   "outputs": [],
   "source": [
    "def Generator(w1):\n",
    "    \"\"\"   \"\"\"\n",
    "    f1 = np.exp(-k*x**2)*((a0 + 0.1*(np.random.normal(mu, sigma, len_m)))*sin(2 * pi * w0 * x + 2 * pi * 0.00) + (a1 + 0.1*(np.random.normal(mu, sigma, len_m)))*sin(2 * pi * w1 * x + 2 * pi * 0.00) + (a2 + 0.2*(np.random.normal(mu, sigma, len_m)))*sin(2 * pi * w2 * x + 2 * pi * 0.00)) + [x for x in 0.25*(np.random.normal(mu, sigma, len_m))]\n",
    "    f2 = np.exp(-k*x**2)*((a0 + 0.05*(np.random.normal(mu, sigma, len_m)))*sin(2 * pi * w0 * x + 2 * pi * 0.00425) + (a1 + 0.05*(np.random.normal(mu, sigma, len_m)))*sin(2 * pi * w1 * x + 2 * pi * 0.00425) + (a2 + 0.1*(np.random.normal(mu, sigma, len_m)))*sin(2 * pi * w2 * x + 2 * pi * 0.025)) + [x for x in 0.3*(np.random.normal(mu, sigma, len_m))]\n",
    "    f3 = np.exp(-k*x**2)*((a0 + 0.09*(np.random.normal(mu, sigma, len_m)))*sin(2 * pi * w0 * x + 2 * pi * 0.0085) + (a1 + 0.09*(np.random.normal(mu, sigma, len_m)))*sin(2 * pi * w1 * x + 2 * pi * 0.0085) + (a2 + 0.18*(np.random.normal(mu, sigma, len_m)))*sin(2 * pi * w2 * x + 2 * pi * 0.0085)) + [x for x in 0.2*(np.random.normal(mu, sigma, len_m))]\n",
    "    f4 = np.exp(-k*x**2)*((a0 + 0.11*(np.random.normal(mu, sigma, len_m)))*sin(2 * pi * w0 * x + 2 * pi * 0.01275) + (a1 + 0.11*(np.random.normal(mu, sigma, len_m)))*sin(2 * pi * w1 * x + 2 * pi * 0.01275) + (a2 + 0.22*(np.random.normal(mu, sigma, len_m)))*sin(2 * pi * w2 * x + 2 * pi * 0.01275)) + [x for x in 0.1*(np.random.normal(mu, sigma, len_m))]\n",
    "\n",
    "    Mass = np.c_[f1, f2, f3, f4]\n",
    "    Mass2 = np.delete(Mass, (0), axis=0)\n",
    "    zeros = np.array([0, 0, 0, 0])\n",
    "    Mass2 = np.vstack((Mass2, zeros))\n",
    "    Mass = np.concatenate((Mass, Mass2), axis=1)\n",
    "\n",
    "    Mass2 = np.delete(Mass, (0, 1), axis=0) \n",
    "    zeros_2 = np.zeros((2, 8))\n",
    "    Mass2 = np.vstack((Mass2, zeros_2))\n",
    "    Mass = np.concatenate((Mass, Mass2), axis=1)\n",
    "    \n",
    "    return(Mass)\n"
   ]
  },
  {
   "cell_type": "code",
   "execution_count": 15,
   "id": "156a7090",
   "metadata": {},
   "outputs": [],
   "source": [
    "def ICA(data):\n",
    "    \"\"\"   \"\"\"\n",
    "    ica = FastICA(n_components=16)\n",
    "    S_ = ica.fit_transform(data)\n",
    "\n",
    "    nu_fft = rfftfreq(len_m, 1.)\n",
    "    \n",
    "    return(nu_fft, S_)"
   ]
  },
  {
   "cell_type": "code",
   "execution_count": 22,
   "id": "95acb5d7",
   "metadata": {},
   "outputs": [],
   "source": [
    "def FFT(ica, nu, w1):\n",
    "    \"\"\"   \"\"\"\n",
    "    nu_mas = np.zeros((16,1))\n",
    "    \n",
    "    for i in range(ica.shape[1]):\n",
    "        spectrf = rfft(ica[:, i])\n",
    "        #nu[np.argmax(np.abs(spectrf), axis=0)]\n",
    "        \n",
    "        tmp_nu = nu[left_ind: right_ind]\n",
    "        tmp_x = spectrf[left_ind: right_ind]\n",
    "\n",
    "        ind = np.argmax(tmp_x)\n",
    "        frq_founded = tmp_nu[ind]\n",
    "        nu_mas[i] = frq_founded\n",
    "        \n",
    "        \n",
    "    delta = nu_mas - w1\n",
    "    #print(delta)\n",
    "    real_delta = min(np.abs(delta))\n",
    "    return(real_delta)"
   ]
  },
  {
   "cell_type": "code",
   "execution_count": 25,
   "id": "bc6e1340",
   "metadata": {},
   "outputs": [],
   "source": [
    "def Plotter(w1_Mas):\n",
    "    \"\"\"   \"\"\"\n",
    "    points_delta = np.zeros((11,1))\n",
    "    for i in range(w1_Mas.shape[0]):\n",
    "        Mas = Generator(w1_Mas[i])\n",
    "        nu_fft, S = ICA(Mas)\n",
    "        points_delta[i] = FFT(S, nu_fft, w1_Mas[i])\n",
    "        \n",
    "    plt.plot(np.abs(w1_Mas - w0), np.abs(points_delta))\n",
    "    #plt.plot(np.abs(w1_Mas - w0), w0 - w1_Mas)\n",
    "\n",
    "    plt.show()   \n",
    "    "
   ]
  },
  {
   "cell_type": "code",
   "execution_count": 26,
   "id": "8e916147",
   "metadata": {},
   "outputs": [
    {
     "name": "stderr",
     "output_type": "stream",
     "text": [
      "C:\\Users\\Slava\\anaconda3\\lib\\site-packages\\sklearn\\decomposition\\_fastica.py:118: ConvergenceWarning: FastICA did not converge. Consider increasing tolerance or the maximum number of iterations.\n",
      "  warnings.warn('FastICA did not converge. Consider increasing '\n",
      "C:\\Users\\Slava\\anaconda3\\lib\\site-packages\\sklearn\\decomposition\\_fastica.py:118: ConvergenceWarning: FastICA did not converge. Consider increasing tolerance or the maximum number of iterations.\n",
      "  warnings.warn('FastICA did not converge. Consider increasing '\n",
      "C:\\Users\\Slava\\anaconda3\\lib\\site-packages\\sklearn\\decomposition\\_fastica.py:118: ConvergenceWarning: FastICA did not converge. Consider increasing tolerance or the maximum number of iterations.\n",
      "  warnings.warn('FastICA did not converge. Consider increasing '\n",
      "C:\\Users\\Slava\\anaconda3\\lib\\site-packages\\sklearn\\decomposition\\_fastica.py:118: ConvergenceWarning: FastICA did not converge. Consider increasing tolerance or the maximum number of iterations.\n",
      "  warnings.warn('FastICA did not converge. Consider increasing '\n",
      "C:\\Users\\Slava\\anaconda3\\lib\\site-packages\\sklearn\\decomposition\\_fastica.py:118: ConvergenceWarning: FastICA did not converge. Consider increasing tolerance or the maximum number of iterations.\n",
      "  warnings.warn('FastICA did not converge. Consider increasing '\n",
      "C:\\Users\\Slava\\anaconda3\\lib\\site-packages\\sklearn\\decomposition\\_fastica.py:118: ConvergenceWarning: FastICA did not converge. Consider increasing tolerance or the maximum number of iterations.\n",
      "  warnings.warn('FastICA did not converge. Consider increasing '\n"
     ]
    },
    {
     "data": {
      "image/png": "[encoded data removed]",
      "text/plain": [
       "<Figure size 432x288 with 1 Axes>"
      ]
     },
     "metadata": {
      "needs_background": "light"
     },
     "output_type": "display_data"
    }
   ],
   "source": [
    "Plotter(w1_Mas)"
   ]
  },
  {
   "cell_type": "code",
   "execution_count": null,
   "id": "63395f62",
   "metadata": {},
   "outputs": [],
   "source": []
  }
 ],
 "metadata": {
  "kernelspec": {
   "display_name": "Python [conda env:root] *",
   "language": "python",
   "name": "conda-root-py"
  },
  "language_info": {
   "codemirror_mode": {
    "name": "ipython",
    "version": 3
   },
   "file_extension": ".py",
   "mimetype": "text/x-python",
   "name": "python",
   "nbconvert_exporter": "python",
   "pygments_lexer": "ipython3",
   "version": "3.8.11"
  }
 },
 "nbformat": 4,
 "nbformat_minor": 5
}
